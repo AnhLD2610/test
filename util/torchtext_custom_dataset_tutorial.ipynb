{
  "cells": [
    {
      "cell_type": "code",
      "execution_count": 2,
      "metadata": {
        "collapsed": false
      },
      "outputs": [],
      "source": [
        "# For tips on running notebooks in Google Colab, see\n",
        "# https://pytorch.org/tutorials/beginner/colab\n",
        "%matplotlib inline"
      ]
    },
    {
      "cell_type": "markdown",
      "metadata": {},
      "source": [
        "\n",
        "# Preprocess custom text dataset using Torchtext\n",
        "\n",
        "**Author**: [Anupam Sharma](https://anp-scp.github.io/)\n",
        "\n",
        "This tutorial illustrates the usage of torchtext on a dataset that is not built-in. In the tutorial,\n",
        "we will preprocess a dataset that can be further utilized to train a sequence-to-sequence\n",
        "model for machine translation (something like, in this tutorial: [Sequence to Sequence Learning\n",
        "with Neural Networks](https://github.com/bentrevett/pytorch-seq2seq/blob/master/1%20-%20Sequence%20to%20Sequence%20Learning%20with%20Neural%20Networks.ipynb)) but without using legacy version\n",
        "of torchtext.\n",
        "\n",
        "In this tutorial, we will learn how to:\n",
        "\n",
        "* Read a dataset\n",
        "* Tokenize sentence\n",
        "* Apply transforms to sentence\n",
        "* Perform bucket batching\n",
        "\n",
        "Let us assume that we need to prepare a dataset to train a model that can perform English to\n",
        "German translation. We will use a tab-delimited German - English sentence pairs provided by\n",
        "the [Tatoeba Project](https://tatoeba.org/en) which can be downloaded from\n",
        "[this link](https://www.manythings.org/anki/deu-eng.zip)_.\n",
        "\n",
        "Sentence pairs for other languages can be found in [this link](https://www.manythings.org/anki/)_.\n"
      ]
    },
    {
      "cell_type": "markdown",
      "metadata": {},
      "source": [
        "## Setup\n",
        "\n",
        "First, download the dataset, extract the zip, and note the path to the file `deu.txt`.\n",
        "\n",
        "Ensure that following packages are installed:\n",
        "\n",
        "* [Torchdata 0.6.0](https://pytorch.org/data/beta/index.html) ([Installation instructions \\](https://github.com/pytorch/data)_)\n",
        "* [Torchtext 0.15.0](https://pytorch.org/text/stable/index.html) ([Installation instructions \\](https://github.com/pytorch/text)_)\n",
        "* [Spacy](https://spacy.io/usage)_\n",
        "\n",
        "Here, we are using `Spacy` to tokenize text. In simple words tokenization means to\n",
        "convert a sentence to list of words. Spacy is a python package used for various Natural\n",
        "Language Processing (NLP) tasks.\n",
        "\n",
        "Download the English and German models from Spacy as shown below:\n",
        "\n",
        "```shell\n",
        "python -m spacy download en_core_web_sm\n",
        "python -m spacy download de_core_news_sm\n",
        "```\n"
      ]
    },
    {
      "cell_type": "markdown",
      "metadata": {},
      "source": [
        "Let us start by importing required modules:\n",
        "\n"
      ]
    },
    {
      "cell_type": "code",
      "execution_count": 3,
      "metadata": {
        "collapsed": false
      },
      "outputs": [
        {
          "name": "stderr",
          "output_type": "stream",
          "text": [
            "/home/aiotlab3/anaconda3/envs/anhld/lib/python3.10/site-packages/tqdm/auto.py:21: TqdmWarning: IProgress not found. Please update jupyter and ipywidgets. See https://ipywidgets.readthedocs.io/en/stable/user_install.html\n",
            "  from .autonotebook import tqdm as notebook_tqdm\n",
            "/home/aiotlab3/anaconda3/envs/anhld/lib/python3.10/site-packages/torch/cuda/__init__.py:611: UserWarning: Can't initialize NVML\n",
            "  warnings.warn(\"Can't initialize NVML\")\n",
            "2023-10-15 19:26:27.556314: E tensorflow/compiler/xla/stream_executor/cuda/cuda_dnn.cc:9342] Unable to register cuDNN factory: Attempting to register factory for plugin cuDNN when one has already been registered\n",
            "2023-10-15 19:26:27.556432: E tensorflow/compiler/xla/stream_executor/cuda/cuda_fft.cc:609] Unable to register cuFFT factory: Attempting to register factory for plugin cuFFT when one has already been registered\n",
            "2023-10-15 19:26:27.556479: E tensorflow/compiler/xla/stream_executor/cuda/cuda_blas.cc:1518] Unable to register cuBLAS factory: Attempting to register factory for plugin cuBLAS when one has already been registered\n",
            "2023-10-15 19:26:27.569181: I tensorflow/core/platform/cpu_feature_guard.cc:182] This TensorFlow binary is optimized to use available CPU instructions in performance-critical operations.\n",
            "To enable the following instructions: AVX2 FMA, in other operations, rebuild TensorFlow with the appropriate compiler flags.\n",
            "2023-10-15 19:26:28.739896: W tensorflow/compiler/tf2tensorrt/utils/py_utils.cc:38] TF-TRT Warning: Could not find TensorRT\n",
            "2023-10-15 19:26:29.891935: I tensorflow/compiler/xla/stream_executor/cuda/cuda_gpu_executor.cc:894] successful NUMA node read from SysFS had negative value (-1), but there must be at least one NUMA node, so returning NUMA node zero. See more at https://github.com/torvalds/linux/blob/v6.0/Documentation/ABI/testing/sysfs-bus-pci#L344-L355\n",
            "2023-10-15 19:26:29.892435: I tensorflow/compiler/xla/stream_executor/cuda/cuda_gpu_executor.cc:894] successful NUMA node read from SysFS had negative value (-1), but there must be at least one NUMA node, so returning NUMA node zero. See more at https://github.com/torvalds/linux/blob/v6.0/Documentation/ABI/testing/sysfs-bus-pci#L344-L355\n",
            "2023-10-15 19:26:29.911892: I tensorflow/compiler/xla/stream_executor/cuda/cuda_gpu_executor.cc:894] successful NUMA node read from SysFS had negative value (-1), but there must be at least one NUMA node, so returning NUMA node zero. See more at https://github.com/torvalds/linux/blob/v6.0/Documentation/ABI/testing/sysfs-bus-pci#L344-L355\n",
            "2023-10-15 19:26:29.912336: I tensorflow/compiler/xla/stream_executor/cuda/cuda_gpu_executor.cc:894] successful NUMA node read from SysFS had negative value (-1), but there must be at least one NUMA node, so returning NUMA node zero. See more at https://github.com/torvalds/linux/blob/v6.0/Documentation/ABI/testing/sysfs-bus-pci#L344-L355\n",
            "2023-10-15 19:26:29.912566: I tensorflow/compiler/xla/stream_executor/cuda/cuda_gpu_executor.cc:894] successful NUMA node read from SysFS had negative value (-1), but there must be at least one NUMA node, so returning NUMA node zero. See more at https://github.com/torvalds/linux/blob/v6.0/Documentation/ABI/testing/sysfs-bus-pci#L344-L355\n",
            "2023-10-15 19:26:29.912757: I tensorflow/compiler/xla/stream_executor/cuda/cuda_gpu_executor.cc:894] successful NUMA node read from SysFS had negative value (-1), but there must be at least one NUMA node, so returning NUMA node zero. See more at https://github.com/torvalds/linux/blob/v6.0/Documentation/ABI/testing/sysfs-bus-pci#L344-L355\n"
          ]
        }
      ],
      "source": [
        "import torchdata.datapipes as dp\n",
        "import torchtext.transforms as T\n",
        "import spacy\n",
        "from torchtext.vocab import build_vocab_from_iterator\n",
        "eng = spacy.load(\"en_core_web_sm\") # Load the English model to tokenize English text\n",
        "de = spacy.load(\"en_core_web_sm\") # Load the German model to tokenize German text"
      ]
    },
    {
      "cell_type": "markdown",
      "metadata": {},
      "source": [
        "Now we will load the dataset\n",
        "\n"
      ]
    },
    {
      "cell_type": "code",
      "execution_count": 4,
      "metadata": {
        "collapsed": false
      },
      "outputs": [],
      "source": [
        "FILE_PATH = 'deu.txt'\n",
        "data_pipe = dp.iter.IterableWrapper([FILE_PATH])\n",
        "data_pipe = dp.iter.FileOpener(data_pipe, mode='rb')\n",
        "data_pipe = data_pipe.parse_csv(skip_lines=0, delimiter='\\t', as_tuple=True)"
      ]
    },
    {
      "cell_type": "markdown",
      "metadata": {},
      "source": [
        "In the above code block, we are doing following things:\n",
        "\n",
        "1. At line 2, we are creating an iterable of filenames\n",
        "2. At line 3, we pass the iterable to `FileOpener` which then\n",
        "   opens the file in read mode\n",
        "3. At line 4, we call a function to parse the file, which\n",
        "   again returns an iterable of tuples representing each rows\n",
        "   of the tab-delimited file\n",
        "\n",
        "DataPipes can be thought of something like a dataset object, on which\n",
        "we can perform various operations.\n",
        "Check [this tutorial](https://pytorch.org/data/beta/dp_tutorial.html) for more details on\n",
        "DataPipes.\n",
        "\n",
        "We can verify if the iterable has the pair of sentences as shown\n",
        "below:\n",
        "\n"
      ]
    },
    {
      "cell_type": "code",
      "execution_count": 5,
      "metadata": {
        "collapsed": false
      },
      "outputs": [
        {
          "name": "stdout",
          "output_type": "stream",
          "text": [
            "('Hi.', 'Hallo!')\n"
          ]
        }
      ],
      "source": [
        "for sample in data_pipe:\n",
        "    print(sample)\n",
        "    break"
      ]
    },
    {
      "cell_type": "markdown",
      "metadata": {},
      "source": [
        "Note that we also have attribution details along with pair of sentences. We will\n",
        "write a small function to remove the attribution details:\n",
        "\n"
      ]
    },
    {
      "cell_type": "code",
      "execution_count": 6,
      "metadata": {
        "collapsed": false
      },
      "outputs": [],
      "source": [
        "def removeAttribution(row):\n",
        "    \"\"\"\n",
        "    Function to keep the first two elements in a tuple\n",
        "    \"\"\"\n",
        "    return row[:2]\n",
        "data_pipe = data_pipe.map(removeAttribution)"
      ]
    },
    {
      "cell_type": "markdown",
      "metadata": {},
      "source": [
        "The `map` function at line 6 in above code block can be used to apply some function\n",
        "on each elements of `data_pipe`. Now, we can verify that the `data_pipe` only contains\n",
        "pair of sentences.\n",
        "\n"
      ]
    },
    {
      "cell_type": "code",
      "execution_count": 7,
      "metadata": {
        "collapsed": false
      },
      "outputs": [
        {
          "name": "stdout",
          "output_type": "stream",
          "text": [
            "('Hi.', 'Hallo!')\n"
          ]
        }
      ],
      "source": [
        "for sample in data_pipe:\n",
        "    print(sample)\n",
        "    break"
      ]
    },
    {
      "cell_type": "markdown",
      "metadata": {},
      "source": [
        "Now, let us define few functions to perform tokenization:\n",
        "\n"
      ]
    },
    {
      "cell_type": "code",
      "execution_count": 8,
      "metadata": {
        "collapsed": false
      },
      "outputs": [],
      "source": [
        "def engTokenize(text):\n",
        "    \"\"\"\n",
        "    Tokenize an English text and return a list of tokens\n",
        "    \"\"\"\n",
        "    return [token.text for token in eng.tokenizer(text)]\n",
        "\n",
        "def deTokenize(text):\n",
        "    \"\"\"\n",
        "    Tokenize a German text and return a list of tokens\n",
        "    \"\"\"\n",
        "    return [token.text for token in de.tokenizer(text)]"
      ]
    },
    {
      "cell_type": "markdown",
      "metadata": {},
      "source": [
        "Above function accepts a text and returns a list of words\n",
        "as shown below:\n",
        "\n"
      ]
    },
    {
      "cell_type": "code",
      "execution_count": 9,
      "metadata": {
        "collapsed": false
      },
      "outputs": [
        {
          "name": "stdout",
          "output_type": "stream",
          "text": [
            "['Have', 'a', 'good', 'day', '!', '!', '!']\n",
            "['Haben', 'Sie', 'einen', 'guten', 'Tag', '!', '!', '!']\n"
          ]
        }
      ],
      "source": [
        "print(engTokenize(\"Have a good day!!!\"))\n",
        "print(deTokenize(\"Haben Sie einen guten Tag!!!\"))"
      ]
    },
    {
      "cell_type": "markdown",
      "metadata": {},
      "source": [
        "## Building the vocabulary\n",
        "Let us consider an English sentence as the source and a German sentence as the target.\n",
        "\n",
        "Vocabulary can be considered as the set of unique words we have in the dataset.\n",
        "We will build vocabulary for both our source and target now.\n",
        "\n",
        "Let us define a function to get tokens from elements of tuples in the iterator.\n",
        "\n"
      ]
    },
    {
      "cell_type": "code",
      "execution_count": 10,
      "metadata": {
        "collapsed": false
      },
      "outputs": [],
      "source": [
        "def getTokens(data_iter, place):\n",
        "    \"\"\"\n",
        "    Function to yield tokens from an iterator. Since, our iterator contains\n",
        "    tuple of sentences (source and target), `place` parameters defines for which\n",
        "    index to return the tokens for. `place=0` for source and `place=1` for target\n",
        "    \"\"\"\n",
        "    for english, german in data_iter:\n",
        "        if place == 0:\n",
        "            yield engTokenize(english)\n",
        "        else:\n",
        "            yield deTokenize(german)"
      ]
    },
    {
      "cell_type": "markdown",
      "metadata": {},
      "source": [
        "Now, we will build vocabulary for source:\n",
        "\n"
      ]
    },
    {
      "cell_type": "code",
      "execution_count": 11,
      "metadata": {
        "collapsed": false
      },
      "outputs": [
        {
          "name": "stdout",
          "output_type": "stream",
          "text": [
            "11379\n"
          ]
        }
      ],
      "source": [
        "source_vocab = build_vocab_from_iterator(\n",
        "    getTokens(data_pipe,0),\n",
        "    min_freq=2,\n",
        "    specials= ['<pad>', '<sos>', '<eos>', '<unk>'],\n",
        "    special_first=True\n",
        ")\n",
        "print(len(source_vocab))\n",
        "source_vocab.set_default_index(source_vocab['<unk>'])"
      ]
    },
    {
      "cell_type": "markdown",
      "metadata": {},
      "source": [
        "The code above, builds the vocabulary from the iterator. In the above code block:\n",
        "\n",
        "* At line 2, we call the `getTokens()` function with `place=0` as we need vocabulary for\n",
        "  source sentences.\n",
        "* At line 3, we set `min_freq=2`. This means, the function will skip those words that occurs\n",
        "  less than 2 times.\n",
        "* At line 4, we specify some special tokens:\n",
        "\n",
        "  * `<sos>` for start of sentence\n",
        "  * `<eos>` for end of sentence\n",
        "  * `<unk>` for unknown words. An example of unknown word is the one skipped because of\n",
        "    `min_freq=2`.\n",
        "  * `<pad>` is the padding token. While training, a model we mostly train in batches. In a\n",
        "    batch, there can be sentences of different length. So, we pad the shorter sentences with\n",
        "    `<pad>` token to make length of all sequences in the batch equal.\n",
        "\n",
        "* At line 5, we set `special_first=True`. Which means `<pad>` will get index 0, `<sos>` index 1,\n",
        "  `<eos>` index 2, and <unk> will get index 3 in the vocabulary.\n",
        "* At line 7, we set default index as index of `<unk>`. That means if some word is not in\n",
        "  vocabulary, we will use `<unk>` instead of that unknown word.\n",
        "\n",
        "Similarly, we will build vocabulary for target sentences:\n",
        "\n"
      ]
    },
    {
      "cell_type": "code",
      "execution_count": 12,
      "metadata": {
        "collapsed": false
      },
      "outputs": [
        {
          "ename": "TypeError",
          "evalue": "__getitem__(): incompatible function arguments. The following argument types are supported:\n    1. (self: torchtext._torchtext.Vocab, arg0: str) -> int\n\nInvoked with: <torchtext._torchtext.Vocab object at 0x7fdbca22f730>, 0",
          "output_type": "error",
          "traceback": [
            "\u001b[0;31m---------------------------------------------------------------------------\u001b[0m",
            "\u001b[0;31mTypeError\u001b[0m                                 Traceback (most recent call last)",
            "\u001b[1;32m/home/aiotlab3/RISE/Lab-MA/DucAnh/transformer/util/torchtext_custom_dataset_tutorial.ipynb Cell 23\u001b[0m line \u001b[0;36m8\n\u001b[1;32m      <a href='vscode-notebook-cell://ssh-remote%2Baiotlab/home/aiotlab3/RISE/Lab-MA/DucAnh/transformer/util/torchtext_custom_dataset_tutorial.ipynb#X31sdnNjb2RlLXJlbW90ZQ%3D%3D?line=0'>1</a>\u001b[0m target_vocab \u001b[39m=\u001b[39m build_vocab_from_iterator(\n\u001b[1;32m      <a href='vscode-notebook-cell://ssh-remote%2Baiotlab/home/aiotlab3/RISE/Lab-MA/DucAnh/transformer/util/torchtext_custom_dataset_tutorial.ipynb#X31sdnNjb2RlLXJlbW90ZQ%3D%3D?line=1'>2</a>\u001b[0m     getTokens(data_pipe,\u001b[39m1\u001b[39m),\n\u001b[1;32m      <a href='vscode-notebook-cell://ssh-remote%2Baiotlab/home/aiotlab3/RISE/Lab-MA/DucAnh/transformer/util/torchtext_custom_dataset_tutorial.ipynb#X31sdnNjb2RlLXJlbW90ZQ%3D%3D?line=2'>3</a>\u001b[0m     min_freq\u001b[39m=\u001b[39m\u001b[39m2\u001b[39m,\n\u001b[1;32m      <a href='vscode-notebook-cell://ssh-remote%2Baiotlab/home/aiotlab3/RISE/Lab-MA/DucAnh/transformer/util/torchtext_custom_dataset_tutorial.ipynb#X31sdnNjb2RlLXJlbW90ZQ%3D%3D?line=3'>4</a>\u001b[0m     specials\u001b[39m=\u001b[39m [\u001b[39m'\u001b[39m\u001b[39m<pad>\u001b[39m\u001b[39m'\u001b[39m, \u001b[39m'\u001b[39m\u001b[39m<sos>\u001b[39m\u001b[39m'\u001b[39m, \u001b[39m'\u001b[39m\u001b[39m<eos>\u001b[39m\u001b[39m'\u001b[39m, \u001b[39m'\u001b[39m\u001b[39m<unk>\u001b[39m\u001b[39m'\u001b[39m],\n\u001b[1;32m      <a href='vscode-notebook-cell://ssh-remote%2Baiotlab/home/aiotlab3/RISE/Lab-MA/DucAnh/transformer/util/torchtext_custom_dataset_tutorial.ipynb#X31sdnNjb2RlLXJlbW90ZQ%3D%3D?line=4'>5</a>\u001b[0m     special_first\u001b[39m=\u001b[39m\u001b[39mTrue\u001b[39;00m\n\u001b[1;32m      <a href='vscode-notebook-cell://ssh-remote%2Baiotlab/home/aiotlab3/RISE/Lab-MA/DucAnh/transformer/util/torchtext_custom_dataset_tutorial.ipynb#X31sdnNjb2RlLXJlbW90ZQ%3D%3D?line=5'>6</a>\u001b[0m )\n\u001b[1;32m      <a href='vscode-notebook-cell://ssh-remote%2Baiotlab/home/aiotlab3/RISE/Lab-MA/DucAnh/transformer/util/torchtext_custom_dataset_tutorial.ipynb#X31sdnNjb2RlLXJlbW90ZQ%3D%3D?line=6'>7</a>\u001b[0m target_vocab\u001b[39m.\u001b[39mset_default_index(target_vocab[\u001b[39m'\u001b[39m\u001b[39m<unk>\u001b[39m\u001b[39m'\u001b[39m])\n\u001b[0;32m----> <a href='vscode-notebook-cell://ssh-remote%2Baiotlab/home/aiotlab3/RISE/Lab-MA/DucAnh/transformer/util/torchtext_custom_dataset_tutorial.ipynb#X31sdnNjb2RlLXJlbW90ZQ%3D%3D?line=7'>8</a>\u001b[0m \u001b[39mfor\u001b[39;00m vocab \u001b[39min\u001b[39;00m target_vocab:\n\u001b[1;32m      <a href='vscode-notebook-cell://ssh-remote%2Baiotlab/home/aiotlab3/RISE/Lab-MA/DucAnh/transformer/util/torchtext_custom_dataset_tutorial.ipynb#X31sdnNjb2RlLXJlbW90ZQ%3D%3D?line=8'>9</a>\u001b[0m     \u001b[39mprint\u001b[39m(vocab)\n",
            "File \u001b[0;32m~/anaconda3/envs/anhld/lib/python3.10/site-packages/torchtext/vocab/vocab.py:65\u001b[0m, in \u001b[0;36mVocab.__getitem__\u001b[0;34m(self, token)\u001b[0m\n\u001b[1;32m     56\u001b[0m \u001b[39m@torch\u001b[39m\u001b[39m.\u001b[39mjit\u001b[39m.\u001b[39mexport\n\u001b[1;32m     57\u001b[0m \u001b[39mdef\u001b[39;00m \u001b[39m__getitem__\u001b[39m(\u001b[39mself\u001b[39m, token: \u001b[39mstr\u001b[39m) \u001b[39m-\u001b[39m\u001b[39m>\u001b[39m \u001b[39mint\u001b[39m:\n\u001b[1;32m     58\u001b[0m \u001b[39m    \u001b[39m\u001b[39mr\u001b[39m\u001b[39m\"\"\"\u001b[39;00m\n\u001b[1;32m     59\u001b[0m \u001b[39m    Args:\u001b[39;00m\n\u001b[1;32m     60\u001b[0m \u001b[39m        token: The token used to lookup the corresponding index.\u001b[39;00m\n\u001b[0;32m   (...)\u001b[0m\n\u001b[1;32m     63\u001b[0m \u001b[39m        The index corresponding to the associated token.\u001b[39;00m\n\u001b[1;32m     64\u001b[0m \u001b[39m    \"\"\"\u001b[39;00m\n\u001b[0;32m---> 65\u001b[0m     \u001b[39mreturn\u001b[39;00m \u001b[39mself\u001b[39;49m\u001b[39m.\u001b[39;49mvocab[token]\n",
            "\u001b[0;31mTypeError\u001b[0m: __getitem__(): incompatible function arguments. The following argument types are supported:\n    1. (self: torchtext._torchtext.Vocab, arg0: str) -> int\n\nInvoked with: <torchtext._torchtext.Vocab object at 0x7fdbca22f730>, 0"
          ]
        }
      ],
      "source": [
        "target_vocab = build_vocab_from_iterator(\n",
        "    getTokens(data_pipe,1),\n",
        "    min_freq=2,\n",
        "    specials= ['<pad>', '<sos>', '<eos>', '<unk>'],\n",
        "    special_first=True\n",
        ")\n",
        "target_vocab.set_default_index(target_vocab['<unk>'])\n",
        "for vocab in target_vocab:\n",
        "    print(vocab)"
      ]
    },
    {
      "cell_type": "markdown",
      "metadata": {},
      "source": [
        "Note that the example above shows how can we add special tokens to our vocabulary. The\n",
        "special tokens may change based on the requirements.\n",
        "\n",
        "Now, we can verify that special tokens are placed at the beginning and then other words.\n",
        "In the below code, `source_vocab.get_itos()` returns a list with tokens at index based on\n",
        "vocabulary.\n",
        "\n"
      ]
    },
    {
      "cell_type": "code",
      "execution_count": null,
      "metadata": {
        "collapsed": false
      },
      "outputs": [
        {
          "name": "stdout",
          "output_type": "stream",
          "text": [
            "['<pad>', '<sos>', '<eos>', '<unk>', '.', 'I', 'Tom', 'to', 'you']\n"
          ]
        }
      ],
      "source": [
        "print(source_vocab.get_itos()[:9])\n",
        "src_pad_idx = source_vocab.get_stoi()['pad']\n"
      ]
    },
    {
      "cell_type": "markdown",
      "metadata": {},
      "source": [
        "## Numericalize sentences using vocabulary\n",
        "After building the vocabulary, we need to convert our sentences to corresponding indices.\n",
        "Let us define some functions for this:\n",
        "\n"
      ]
    },
    {
      "cell_type": "code",
      "execution_count": null,
      "metadata": {
        "collapsed": false
      },
      "outputs": [],
      "source": [
        "def getTransform(vocab):\n",
        "    \"\"\"\n",
        "    Create transforms based on given vocabulary. The returned transform is applied to sequence\n",
        "    of tokens.\n",
        "    \"\"\"\n",
        "    text_tranform = T.Sequential(\n",
        "        ## converts the sentences to indices based on given vocabulary\n",
        "        T.VocabTransform(vocab=vocab),\n",
        "        ## Add <sos> at beginning of each sentence. 1 because the index for <sos> in vocabulary is\n",
        "        # 1 as seen in previous section\n",
        "        T.AddToken(1, begin=True),\n",
        "        ## Add <eos> at beginning of each sentence. 2 because the index for <eos> in vocabulary is\n",
        "        # 2 as seen in previous section\n",
        "        T.AddToken(2, begin=False)\n",
        "    )\n",
        "    return text_tranform"
      ]
    },
    {
      "cell_type": "markdown",
      "metadata": {},
      "source": [
        "Now, let us see how to use the above function. The function returns an object of `Transforms`\n",
        "which we will use on our sentence. Let us take a random sentence and check how the transform\n",
        "works.\n",
        "\n"
      ]
    },
    {
      "cell_type": "code",
      "execution_count": null,
      "metadata": {
        "collapsed": false
      },
      "outputs": [
        {
          "name": "stdout",
          "output_type": "stream",
          "text": [
            "Some sentence=We'll try.\n",
            "Transformed sentence=[1, 39, 55, 330, 4, 2]\n",
            "<sos> We 'll try . <eos> "
          ]
        }
      ],
      "source": [
        "temp_list = list(data_pipe)\n",
        "some_sentence = temp_list[798][0]\n",
        "print(\"Some sentence=\", end=\"\")\n",
        "print(some_sentence)\n",
        "transformed_sentence = getTransform(source_vocab)(engTokenize(some_sentence))\n",
        "print(\"Transformed sentence=\", end=\"\")\n",
        "print(transformed_sentence)\n",
        "index_to_string = source_vocab.get_itos()\n",
        "for index in transformed_sentence:\n",
        "    print(index_to_string[index], end=\" \")"
      ]
    },
    {
      "cell_type": "markdown",
      "metadata": {},
      "source": [
        "In the above code,:\n",
        "\n",
        "* At line 2, we take a source sentence from list that we created from `data_pipe` at line 1\n",
        "* At line 5, we get a transform based on a source vocabulary and apply it to a tokenized\n",
        "  sentence. Note that transforms take list of words and not a sentence.\n",
        "* At line 8, we get the mapping of index to string and then use it get the transformed\n",
        "  sentence\n",
        "\n",
        "Now we will use DataPipe functions to apply transform to all our sentences.\n",
        "Let us define some more functions for this.\n",
        "\n"
      ]
    },
    {
      "cell_type": "code",
      "execution_count": null,
      "metadata": {
        "collapsed": false
      },
      "outputs": [
        {
          "name": "stdout",
          "output_type": "stream",
          "text": [
            "([1, 2885, 4, 2], [1, 1867, 25, 2])\n"
          ]
        }
      ],
      "source": [
        "def applyTransform(sequence_pair):\n",
        "    \"\"\"\n",
        "    Apply transforms to sequence of tokens in a sequence pair\n",
        "    \"\"\"\n",
        "\n",
        "    return (\n",
        "        getTransform(source_vocab)(engTokenize(sequence_pair[0])),\n",
        "        getTransform(target_vocab)(deTokenize(sequence_pair[1]))\n",
        "    )\n",
        "data_pipe = data_pipe.map(applyTransform) ## Apply the function to each element in the iterator\n",
        "temp_list = list(data_pipe)\n",
        "print(temp_list[0])"
      ]
    },
    {
      "cell_type": "markdown",
      "metadata": {},
      "source": [
        "## Make batches (with bucket batch)\n",
        "Generally, we train models in batches. While working for sequence to sequence models, it is\n",
        "recommended to keep the length of sequences in a batch similar. For that we will use\n",
        "`bucketbatch` function of `data_pipe`.\n",
        "\n",
        "Let us define some functions that will be used by the `bucketbatch` function.\n",
        "\n"
      ]
    },
    {
      "cell_type": "code",
      "execution_count": null,
      "metadata": {
        "collapsed": false
      },
      "outputs": [],
      "source": [
        "def sortBucket(bucket):\n",
        "    \"\"\"\n",
        "    Function to sort a given bucket. Here, we want to sort based on the length of\n",
        "    source and target sequence.\n",
        "    \"\"\"\n",
        "    return sorted(bucket, key=lambda x: (len(x[0]), len(x[1])))"
      ]
    },
    {
      "cell_type": "markdown",
      "metadata": {},
      "source": [
        "Now, we will apply the `bucketbatch` function:\n",
        "\n"
      ]
    },
    {
      "cell_type": "code",
      "execution_count": null,
      "metadata": {
        "collapsed": false
      },
      "outputs": [],
      "source": [
        "data_pipe = data_pipe.bucketbatch(\n",
        "    batch_size = 4, batch_num=5,  bucket_num=1,\n",
        "    use_in_batch_shuffle=False, sort_key=sortBucket\n",
        ")"
      ]
    },
    {
      "cell_type": "markdown",
      "metadata": {},
      "source": [
        "In the above code block:\n",
        "\n",
        "  * We keep batch size = 4.\n",
        "  * `batch_num` is the number of batches to keep in a bucket\n",
        "  * `bucket_num` is the number of buckets to keep in a pool for shuffling\n",
        "  * `sort_key` specifies the function that takes a bucket and sorts it\n",
        "\n",
        "Now, let us consider a batch of source sentences as `X` and a batch of target sentences as `y`.\n",
        "Generally, while training a model, we predict on a batch of `X` and compare the result with `y`.\n",
        "But, a batch in our `data_pipe` is of the form `[(X_1,y_1), (X_2,y_2), (X_3,y_3), (X_4,y_4)]`:\n",
        "\n"
      ]
    },
    {
      "cell_type": "code",
      "execution_count": null,
      "metadata": {
        "collapsed": false
      },
      "outputs": [
        {
          "name": "stdout",
          "output_type": "stream",
          "text": [
            "[([1, 9275, 23, 10, 2], [1, 3, 8, 2]), ([1, 9275, 23, 10, 2], [1, 8746, 8, 2]), ([1, 26, 445, 4, 2], [1, 23, 930, 4, 2]), ([1, 26, 445, 4, 2], [1, 23, 1170, 4, 2])]\n"
          ]
        }
      ],
      "source": [
        "print(list(data_pipe)[0])"
      ]
    },
    {
      "cell_type": "markdown",
      "metadata": {},
      "source": [
        "So, we will now convert them into the form: `((X_1,X_2,X_3,X_4), (y_1,y_2,y_3,y_4))`.\n",
        "For this we will write a small function:\n",
        "\n"
      ]
    },
    {
      "cell_type": "code",
      "execution_count": null,
      "metadata": {
        "collapsed": false
      },
      "outputs": [
        {
          "name": "stdout",
          "output_type": "stream",
          "text": [
            "(([1, 5, 454, 4, 2], [1, 5, 47, 4, 2], [1, 5, 454, 4, 2], [1, 5, 454, 4, 2]), ([1, 7, 2968, 4, 2], [1, 7, 75, 4, 2], [1, 7, 635, 426, 4, 2], [1, 7, 54, 9474, 4, 2]))\n"
          ]
        }
      ],
      "source": [
        "def separateSourceTarget(sequence_pairs):\n",
        "    \"\"\"\n",
        "    input of form: `[(X_1,y_1), (X_2,y_2), (X_3,y_3), (X_4,y_4)]`\n",
        "    output of form: `((X_1,X_2,X_3,X_4), (y_1,y_2,y_3,y_4))`\n",
        "    \"\"\"\n",
        "    sources,targets = zip(*sequence_pairs)\n",
        "    return sources,targets\n",
        "\n",
        "## Apply the function to each element in the iterator\n",
        "data_pipe = data_pipe.map(separateSourceTarget)\n",
        "print(list(data_pipe)[0])"
      ]
    },
    {
      "cell_type": "markdown",
      "metadata": {},
      "source": [
        "Now, we have the data as desired.\n",
        "\n",
        "## Padding\n",
        "As discussed earlier while building vocabulary, we need to pad shorter sentences in a batch to\n",
        "make all the sequences in a batch of equal length. We can perform padding as follows:\n",
        "\n"
      ]
    },
    {
      "cell_type": "code",
      "execution_count": null,
      "metadata": {
        "collapsed": false
      },
      "outputs": [],
      "source": [
        "def applyPadding(pair_of_sequences):\n",
        "    \"\"\"\n",
        "    Convert sequences to tensors and apply padding\n",
        "    \"\"\"\n",
        "    return (T.ToTensor(0)(list(pair_of_sequences[0])), T.ToTensor(0)(list(pair_of_sequences[1])))\n",
        "## `T.ToTensor(0)` returns a transform that converts the sequence to `torch.tensor` and also applies\n",
        "# padding. Here, `0` is passed to the constructor to specify the index of the `<pad>` token in the\n",
        "# vocabulary.\n",
        "data_pipe = data_pipe.map(applyPadding)"
      ]
    },
    {
      "cell_type": "markdown",
      "metadata": {},
      "source": [
        "Now, we can use the index to string mapping to see how the sequence would look with tokens\n",
        "instead of indices:\n",
        "\n"
      ]
    },
    {
      "cell_type": "code",
      "execution_count": null,
      "metadata": {
        "collapsed": false
      },
      "outputs": [
        {
          "name": "stdout",
          "output_type": "stream",
          "text": [
            "Source:  <sos> Goodbye ! <eos> <pad>\n",
            "Traget:  <sos> Tschüss ! <eos> <pad>\n",
            "Source:  <sos> Goodbye ! <eos> <pad>\n",
            "Traget:  <sos> Auf Wiedersehen ! <eos>\n",
            "Source:  <sos> Go home . <eos>\n",
            "Traget:  <sos> Geh heim . <eos>\n",
            "Source:  <sos> Hang on ! <eos>\n",
            "Traget:  <sos> Nicht nachlassen ! <eos>\n"
          ]
        }
      ],
      "source": [
        "source_index_to_string = source_vocab.get_itos()\n",
        "target_index_to_string = target_vocab.get_itos()\n",
        "\n",
        "def showSomeTransformedSentences(data_pipe):\n",
        "    \"\"\"\n",
        "    Function to show how the sentences look like after applying all transforms.\n",
        "    Here we try to print actual words instead of corresponding index\n",
        "    \"\"\"\n",
        "    for sources,targets in data_pipe:\n",
        "        if sources[0][-1] != 0:\n",
        "            continue # Just to visualize padding of shorter sentences\n",
        "        for i in range(4):\n",
        "            source = \"\"\n",
        "            for token in sources[i]:\n",
        "                source += \" \" + source_index_to_string[token]\n",
        "            target = \"\"\n",
        "            for token in targets[i]:\n",
        "                target += \" \" + target_index_to_string[token]\n",
        "            print(f\"Source: {source}\")\n",
        "            print(f\"Traget: {target}\")\n",
        "        break\n",
        "\n",
        "showSomeTransformedSentences(data_pipe)"
      ]
    },
    {
      "cell_type": "markdown",
      "metadata": {},
      "source": [
        "In the above output we can observe that the shorter sentences are padded with `<pad>`. Now, we\n",
        "can use `data_pipe` while writing our training function.\n",
        "\n",
        "Some parts of this tutorial was inspired from [this article](https://medium.com/@bitdribble/migrate-torchtext-to-the-new-0-9-0-api-1ff1472b5d71)_.\n",
        "\n"
      ]
    }
  ],
  "metadata": {
    "kernelspec": {
      "display_name": "Python 3",
      "language": "python",
      "name": "python3"
    },
    "language_info": {
      "codemirror_mode": {
        "name": "ipython",
        "version": 3
      },
      "file_extension": ".py",
      "mimetype": "text/x-python",
      "name": "python",
      "nbconvert_exporter": "python",
      "pygments_lexer": "ipython3",
      "version": "3.10.12"
    }
  },
  "nbformat": 4,
  "nbformat_minor": 0
}
